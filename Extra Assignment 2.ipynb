{
 "cells": [
  {
   "cell_type": "code",
   "execution_count": 4,
   "metadata": {},
   "outputs": [
    {
     "name": "stdout",
     "output_type": "stream",
     "text": [
      "0\n",
      "1\n",
      "2\n",
      "3\n",
      "4\n",
      "5\n",
      "6\n",
      "7\n",
      "8\n",
      "9\n",
      "10\n",
      "11\n",
      "12\n",
      "13\n",
      "14\n",
      "15\n",
      "16\n",
      "17\n",
      "18\n",
      "19\n"
     ]
    }
   ],
   "source": [
    "# print 0 to 20 using range\n",
    "for num in range(0, 20):\n",
    "    print(num)"
   ]
  },
  {
   "cell_type": "code",
   "execution_count": 53,
   "metadata": {},
   "outputs": [
    {
     "name": "stdout",
     "output_type": "stream",
     "text": [
      "10\n",
      "11\n",
      "12\n",
      "13\n",
      "14\n",
      "15\n",
      "16\n",
      "17\n",
      "18\n",
      "19\n"
     ]
    }
   ],
   "source": [
    "# print range 10 to 20  \n",
    "for num in range (10, 20):\n",
    "    print(num)"
   ]
  },
  {
   "cell_type": "code",
   "execution_count": 21,
   "metadata": {},
   "outputs": [
    {
     "name": "stdout",
     "output_type": "stream",
     "text": [
      "[10, 20, 14, 55, 43, 87, 76]\n",
      "Number of items in the List2:\n",
      "7\n"
     ]
    }
   ],
   "source": [
    "# Print number of items in the list by using 'len'\n",
    "List2 = [10, 20, 14, 55, 43, 87, 76] \n",
    "print(List2)\n",
    "print(\"Number of items in the List2:\")\n",
    "print(len(List2))\n",
    "\n",
    "\n"
   ]
  },
  {
   "cell_type": "code",
   "execution_count": 32,
   "metadata": {},
   "outputs": [
    {
     "name": "stdout",
     "output_type": "stream",
     "text": [
      "Artificial Intelligence\n",
      "A\n",
      "r\n",
      "t\n",
      "i\n",
      "f\n",
      "i\n",
      "c\n",
      "i\n",
      "a\n",
      "l\n",
      "I\n",
      "n\n",
      "t\n",
      "e\n",
      "l\n",
      "l\n",
      "i\n",
      "g\n",
      "e\n",
      "n\n",
      "c\n",
      "e\n"
     ]
    }
   ],
   "source": [
    "print(\"Artificial Intelligence\")\n",
    "\n",
    "Name=\"ArtificialIntelligence\"\n",
    "for i in Name:\n",
    "    print(i)\n",
    "\n"
   ]
  },
  {
   "cell_type": "code",
   "execution_count": 38,
   "metadata": {},
   "outputs": [
    {
     "name": "stdout",
     "output_type": "stream",
     "text": [
      "-Your Name- Anantha lakshmi\n",
      "-Your Age-29\n",
      "-Your Profession-Accountant\n"
     ]
    }
   ],
   "source": [
    "print(\"-Your Name- Anantha lakshmi\")\n",
    "print(\"-Your Age-29\")\n",
    "print(\"-Your Profession-Accountant\")"
   ]
  },
  {
   "cell_type": "code",
   "execution_count": 40,
   "metadata": {},
   "outputs": [
    {
     "name": "stdout",
     "output_type": "stream",
     "text": [
      "(1, 'Welcome', 2, 'Hope')\n"
     ]
    }
   ],
   "source": [
    "# with Mixed Datatype\n",
    "Tuple1 = (1, 'Welcome', 2, 'Hope')\n",
    "\n",
    "print(Tuple1)\n",
    " "
   ]
  },
  {
   "cell_type": "code",
   "execution_count": 41,
   "metadata": {},
   "outputs": [
    {
     "name": "stdout",
     "output_type": "stream",
     "text": [
      "((0, 1, 2, 3), ('python', 'Hope'))\n"
     ]
    }
   ],
   "source": [
    "Tuple1 = (0, 1, 2, 3)\n",
    "Tuple2 = ('python', 'Hope')\n",
    "Tuple3 = (Tuple1, Tuple2)\n",
    "print(Tuple3)"
   ]
  },
  {
   "cell_type": "code",
   "execution_count": 48,
   "metadata": {},
   "outputs": [
    {
     "name": "stdout",
     "output_type": "stream",
     "text": [
      "(20, 10, 16, 19, 25, 1, 276, 188)\n",
      "19 is Odd\n",
      "25 is Odd\n",
      "1 is Odd\n"
     ]
    }
   ],
   "source": [
    "# print Odd Numbers in the list\n",
    "print((20,10,16,19,25,1,276,188))\n",
    "\n",
    "if ((19%2)==1):\n",
    "    print(\"19 is Odd\")\n",
    "else:\n",
    "    print(\"19 is Even\")\n",
    "    \n",
    "if ((25%2)==1):\n",
    "    print(\"25 is Odd\")\n",
    "else:\n",
    "    print(\"25 is Even\")\n",
    "    \n",
    "if ((1%2)==1):\n",
    "    print(\"1 is Odd\")\n",
    "else:\n",
    "    print(\"1 is Even\")"
   ]
  },
  {
   "cell_type": "code",
   "execution_count": 51,
   "metadata": {},
   "outputs": [
    {
     "name": "stdout",
     "output_type": "stream",
     "text": [
      "(20, 10, 16, 19, 25, 1, 276, 188)\n",
      "20 is Odd\n",
      "10 is Odd\n",
      "16 is Odd\n",
      "276 is Odd\n",
      "188 is Odd\n"
     ]
    }
   ],
   "source": [
    "# print Even numbers in the list\n",
    "print((20,10,16,19,25,1,276,188))\n",
    "\n",
    "if ((20%2)==0):\n",
    "    print(\"20 is Odd\")\n",
    "else:\n",
    "    print(\"20 is Even\")\n",
    "    \n",
    "if ((10%2)==0):\n",
    "    print(\"10 is Odd\")\n",
    "else:\n",
    "    print(\"10 is Even\")\n",
    "    \n",
    "if ((16%2)==0):\n",
    "    print(\"16 is Odd\")\n",
    "else:\n",
    "    print(\"16 is Even\")\n",
    "    \n",
    "if ((276%2)==0):\n",
    "    print(\"276 is Odd\")\n",
    "else:\n",
    "    print(\"276 is Even\")\n",
    "    \n",
    "if ((188%2)==0):\n",
    "    print(\"188 is Odd\")\n",
    "else:\n",
    "    print(\"188 is Even\")"
   ]
  },
  {
   "cell_type": "code",
   "execution_count": null,
   "metadata": {},
   "outputs": [],
   "source": []
  }
 ],
 "metadata": {
  "kernelspec": {
   "display_name": "Python 3",
   "language": "python",
   "name": "python3"
  },
  "language_info": {
   "codemirror_mode": {
    "name": "ipython",
    "version": 3
   },
   "file_extension": ".py",
   "mimetype": "text/x-python",
   "name": "python",
   "nbconvert_exporter": "python",
   "pygments_lexer": "ipython3",
   "version": "3.7.4"
  }
 },
 "nbformat": 4,
 "nbformat_minor": 2
}
