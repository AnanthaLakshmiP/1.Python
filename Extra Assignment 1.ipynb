{
 "cells": [
  {
   "cell_type": "code",
   "execution_count": 1,
   "metadata": {},
   "outputs": [
    {
     "name": "stdout",
     "output_type": "stream",
     "text": [
      "HOPE AI\n"
     ]
    }
   ],
   "source": [
    "print(\"HOPE AI\")"
   ]
  },
  {
   "cell_type": "code",
   "execution_count": 2,
   "metadata": {},
   "outputs": [
    {
     "name": "stdout",
     "output_type": "stream",
     "text": [
      "Enter your institute name?:HOPE AI\n"
     ]
    }
   ],
   "source": [
    "#Buy input\n",
    "institute=input(\"Enter your institute name?:\")"
   ]
  },
  {
   "cell_type": "code",
   "execution_count": 4,
   "metadata": {},
   "outputs": [
    {
     "name": "stdout",
     "output_type": "stream",
     "text": [
      "Enter your Name:Anantha Lakshmi\n",
      "Enter your Age:29\n",
      "Enter your School Name:Velankanni Matric Hr Sec School\n",
      "Enter your Degree:B Com\n"
     ]
    }
   ],
   "source": [
    "#buy inputs\n",
    "Name=input(\"Enter your Name:\")\n",
    "Age=input(\"Enter your Age:\")\n",
    "SchoolName=input(\"Enter your School Name:\")\n",
    "Degree=input(\"Enter your Degree:\")"
   ]
  },
  {
   "cell_type": "code",
   "execution_count": 5,
   "metadata": {},
   "outputs": [
    {
     "name": "stdout",
     "output_type": "stream",
     "text": [
      "a= 43\n",
      "b= 34\n",
      "add= 77\n"
     ]
    }
   ],
   "source": [
    "#Addition\n",
    "a=43\n",
    "print(\"a=\",43)\n",
    "b=34\n",
    "print(\"b=\",34)\n",
    "add=a+b\n",
    "print(\"add=\",a+b)"
   ]
  },
  {
   "cell_type": "code",
   "execution_count": 7,
   "metadata": {},
   "outputs": [
    {
     "name": "stdout",
     "output_type": "stream",
     "text": [
      "a= 43\n",
      "b= 34\n",
      "Sub= 9\n"
     ]
    }
   ],
   "source": [
    "#subraction\n",
    "a=43\n",
    "print(\"a=\",43)\n",
    "b=34\n",
    "print(\"b=\",34)\n",
    "add=a-b\n",
    "print(\"Sub=\",a-b)"
   ]
  },
  {
   "cell_type": "code",
   "execution_count": 9,
   "metadata": {},
   "outputs": [
    {
     "name": "stdout",
     "output_type": "stream",
     "text": [
      "a= 63\n",
      "b= 97\n",
      "Mul= 6111\n"
     ]
    }
   ],
   "source": [
    "#Multiplication\n",
    "a=63\n",
    "print(\"a=\",63)\n",
    "b=97\n",
    "print(\"b=\",97)\n",
    "Mul=a*b\n",
    "print(\"Mul=\",a*b)\n"
   ]
  },
  {
   "cell_type": "code",
   "execution_count": 11,
   "metadata": {},
   "outputs": [
    {
     "name": "stdout",
     "output_type": "stream",
     "text": [
      "a= 76\n",
      "b= 31\n",
      "Float Div= 2.4516129032258065\n"
     ]
    }
   ],
   "source": [
    "#Division\n",
    "a=76\n",
    "print(\"a=\",76)\n",
    "b=31\n",
    "print(\"b=\",31)\n",
    "Div=a/b\n",
    "print(\"Float Div=\",a/b)"
   ]
  },
  {
   "cell_type": "code",
   "execution_count": 14,
   "metadata": {},
   "outputs": [
    {
     "name": "stdout",
     "output_type": "stream",
     "text": [
      "a= 76\n",
      "b= 31\n",
      "Floor Div= 2\n"
     ]
    }
   ],
   "source": [
    "#Floor Divsion\n",
    "a=76\n",
    "print(\"a=\",76)\n",
    "b=31\n",
    "print(\"b=\",31)\n",
    "Div=a//b\n",
    "print(\"Floor Div=\",a//b)"
   ]
  },
  {
   "cell_type": "code",
   "execution_count": 15,
   "metadata": {},
   "outputs": [
    {
     "name": "stdout",
     "output_type": "stream",
     "text": [
      "a= 76\n",
      "b= 31\n",
      "Modulo = 14\n"
     ]
    }
   ],
   "source": [
    "#Modulo\n",
    "a=76\n",
    "print(\"a=\",76)\n",
    "b=31\n",
    "print(\"b=\",31)\n",
    "Modulo=a%b\n",
    "print(\"Modulo =\",a%b)\n"
   ]
  },
  {
   "cell_type": "code",
   "execution_count": 17,
   "metadata": {},
   "outputs": [
    {
     "name": "stdout",
     "output_type": "stream",
     "text": [
      "a= 4\n",
      "b= 4\n",
      "Power = 256\n"
     ]
    }
   ],
   "source": [
    "#Power\n",
    "a=4\n",
    "print(\"a=\",4)\n",
    "b=4\n",
    "print(\"b=\",4)\n",
    "Power=a**b\n",
    "print(\"Power =\",a**b)"
   ]
  },
  {
   "cell_type": "code",
   "execution_count": null,
   "metadata": {},
   "outputs": [],
   "source": []
  }
 ],
 "metadata": {
  "kernelspec": {
   "display_name": "Python 3",
   "language": "python",
   "name": "python3"
  },
  "language_info": {
   "codemirror_mode": {
    "name": "ipython",
    "version": 3
   },
   "file_extension": ".py",
   "mimetype": "text/x-python",
   "name": "python",
   "nbconvert_exporter": "python",
   "pygments_lexer": "ipython3",
   "version": "3.7.4"
  }
 },
 "nbformat": 4,
 "nbformat_minor": 2
}
