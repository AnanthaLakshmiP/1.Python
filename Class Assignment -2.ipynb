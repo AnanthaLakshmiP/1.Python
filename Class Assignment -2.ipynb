{
 "cells": [
  {
   "cell_type": "code",
   "execution_count": 1,
   "metadata": {},
   "outputs": [],
   "source": [
    "# Create Class Import Function\n",
    "\n",
    "from multifunctions import multifunctions"
   ]
  },
  {
   "cell_type": "code",
   "execution_count": 2,
   "metadata": {},
   "outputs": [
    {
     "name": "stdout",
     "output_type": "stream",
     "text": [
      "Sub-fields in AI are:\n",
      "Machine Learning\n",
      "Neural Networks\n",
      "Vision\n",
      "Robotics\n",
      "Speech Processing\n",
      "Natural Language Processing\n"
     ]
    }
   ],
   "source": [
    "multifunctions.Subfields()"
   ]
  },
  {
   "cell_type": "code",
   "execution_count": 3,
   "metadata": {},
   "outputs": [
    {
     "name": "stdout",
     "output_type": "stream",
     "text": [
      "Enter a number:2658\n",
      "2658 is Even number\n"
     ]
    }
   ],
   "source": [
    "multifunctions.OddEven()"
   ]
  },
  {
   "cell_type": "code",
   "execution_count": 4,
   "metadata": {},
   "outputs": [
    {
     "name": "stdout",
     "output_type": "stream",
     "text": [
      "Your Gender:Male\n",
      "Your Age:19\n",
      "NOT ELIGIBLE\n"
     ]
    }
   ],
   "source": [
    "multifunctions.Eligible()"
   ]
  },
  {
   "cell_type": "code",
   "execution_count": 5,
   "metadata": {},
   "outputs": [
    {
     "name": "stdout",
     "output_type": "stream",
     "text": [
      "Subject1=66\n",
      "Subject2=75\n",
      "Subject3=55\n",
      "Subject4=99\n",
      "Subject5=68\n",
      "Total: 363\n",
      "Percentage: 72.6\n"
     ]
    }
   ],
   "source": [
    "multifunctions.percentage()"
   ]
  },
  {
   "cell_type": "code",
   "execution_count": 6,
   "metadata": {},
   "outputs": [
    {
     "name": "stdout",
     "output_type": "stream",
     "text": [
      "Height:3\n",
      "Breadth:6\n",
      "Area Formula: Height*Breadth/2\n",
      "Area of Formula: 9.0\n",
      "Height1:12\n",
      "Height2:15\n",
      "Breadth:15\n",
      "Perimeter Formula:Height1+Height2+Breadth2\n",
      "Perimeter of Triangle: 42\n"
     ]
    }
   ],
   "source": [
    "multifunctions.triangle()"
   ]
  },
  {
   "cell_type": "code",
   "execution_count": null,
   "metadata": {},
   "outputs": [],
   "source": []
  }
 ],
 "metadata": {
  "kernelspec": {
   "display_name": "Python 3",
   "language": "python",
   "name": "python3"
  },
  "language_info": {
   "codemirror_mode": {
    "name": "ipython",
    "version": 3
   },
   "file_extension": ".py",
   "mimetype": "text/x-python",
   "name": "python",
   "nbconvert_exporter": "python",
   "pygments_lexer": "ipython3",
   "version": "3.7.4"
  }
 },
 "nbformat": 4,
 "nbformat_minor": 2
}
