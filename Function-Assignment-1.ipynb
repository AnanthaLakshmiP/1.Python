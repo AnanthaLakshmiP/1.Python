{
 "cells": [
  {
   "cell_type": "code",
   "execution_count": 12,
   "metadata": {},
   "outputs": [],
   "source": [
    "# Create Functions\n",
    "\n",
    "list=[\"Machine Learning\",\"Neural Networks\",\"Vision\",\"Robotics\",\"Speech Processing\",\"Natural Language Processing\"]"
   ]
  },
  {
   "cell_type": "code",
   "execution_count": 16,
   "metadata": {},
   "outputs": [],
   "source": [
    "def Subfields():\n",
    "    print(\"Sub-fields in AI are:\")\n",
    "    for x in list:\n",
    "        print(x)"
   ]
  },
  {
   "cell_type": "code",
   "execution_count": 17,
   "metadata": {},
   "outputs": [
    {
     "name": "stdout",
     "output_type": "stream",
     "text": [
      "Sub-fields in AI are:\n",
      "Machine Learning\n",
      "Neural Networks\n",
      "Vision\n",
      "Robotics\n",
      "Speech Processing\n",
      "Natural Language Processing\n"
     ]
    }
   ],
   "source": [
    "Subfields()"
   ]
  },
  {
   "cell_type": "code",
   "execution_count": 8,
   "metadata": {},
   "outputs": [],
   "source": [
    "# Create Function\n",
    "\n",
    "def OddEven():\n",
    "    num=int(input(\"Enter a number:\"))\n",
    "    if (num%2)==0:\n",
    "        print(num,\"is Even number\")\n",
    "        message=\"Even number\"\n",
    "        \n",
    "    else:\n",
    "        print(num,\"is odd number\")\n",
    "        message=\"odd number\"\n",
    "    return meassage\n"
   ]
  },
  {
   "cell_type": "code",
   "execution_count": 66,
   "metadata": {},
   "outputs": [
    {
     "name": "stdout",
     "output_type": "stream",
     "text": [
      "Enter a number:4\n",
      "4 is Even number\n"
     ]
    }
   ],
   "source": [
    "OddEven()"
   ]
  },
  {
   "cell_type": "code",
   "execution_count": 10,
   "metadata": {},
   "outputs": [],
   "source": [
    "# Create Function\n",
    "\n",
    "def Eligible():\n",
    "    name=input(\"Your Gender:\")\n",
    "    age=int(input(\"Your Age:\"))\n",
    "    if (age<25):\n",
    "        print(\"NOT ELIGIBLE\")\n",
    "        message=\"NOT ELIGIBLE\"\n",
    "        \n",
    "    else:\n",
    "        print(\"ELIGIBLE\")\n",
    "        message=\"ELIGIBLE\"\n",
    "    return meassage\n",
    "        \n",
    "      "
   ]
  },
  {
   "cell_type": "code",
   "execution_count": 67,
   "metadata": {},
   "outputs": [
    {
     "name": "stdout",
     "output_type": "stream",
     "text": [
      "Your Gender:MALE\n",
      "Your Age:18\n",
      "NOT ELIGIBLE\n"
     ]
    }
   ],
   "source": [
    "Eligible()"
   ]
  },
  {
   "cell_type": "code",
   "execution_count": 18,
   "metadata": {},
   "outputs": [],
   "source": [
    "Subject1=23\n",
    "Subject2=45\n",
    "Subject3=34\n",
    "Subject4=23\n",
    "Subject5=23"
   ]
  },
  {
   "cell_type": "code",
   "execution_count": 1,
   "metadata": {},
   "outputs": [],
   "source": [
    "# Create Function\n",
    "\n",
    "def percentage():\n",
    "        mark1=int(input(\"Subject1=\"))\n",
    "        mark2=int(input(\"Subject2=\"))\n",
    "        mark3=int(input(\"Subject3=\"))\n",
    "        mark4=int(input(\"Subject4=\"))\n",
    "        mark5=int(input(\"Subject5=\"))\n",
    "        add=mark1+mark2+mark3+mark4+mark5\n",
    "        print(\"Total:\",add)\n",
    "        per=add/5\n",
    "        print(\"Percentage:\",per)"
   ]
  },
  {
   "cell_type": "code",
   "execution_count": 2,
   "metadata": {},
   "outputs": [
    {
     "name": "stdout",
     "output_type": "stream",
     "text": [
      "Subject1=23\n",
      "Subject2=45\n",
      "Subject3=34\n",
      "Subject4=23\n",
      "Subject5=23\n",
      "Total: 148\n",
      "Percentage: 29.6\n"
     ]
    }
   ],
   "source": [
    "percentage()"
   ]
  },
  {
   "cell_type": "code",
   "execution_count": 24,
   "metadata": {},
   "outputs": [],
   "source": [
    "Height=3\n",
    "Breadth=4\n",
    "Height1=3\n",
    "Height2=4\n",
    "Breadth2=45"
   ]
  },
  {
   "cell_type": "code",
   "execution_count": 3,
   "metadata": {},
   "outputs": [],
   "source": [
    "# Create Function\n",
    "\n",
    "def triangle():\n",
    "    H=int(input(\"Height:\"))\n",
    "    B=int(input(\"Breadth:\"))\n",
    "    print(\"Area Formula: Height*Breadth/2\")\n",
    "    f=(H*B)/2\n",
    "    print(\"Area of Formula:\",f)\n",
    "    H1=int(input(\"Height1:\"))\n",
    "    H2=int(input(\"Height2:\"))\n",
    "    B1=int(input(\"Breadth:\"))\n",
    "    print(\"Perimeter Formula:Height1+Height2+Breadth2\")\n",
    "    add=H1+H2+B1\n",
    "    print(\"Perimeter of Triangle:\",add)\n",
    "    \n",
    "    "
   ]
  },
  {
   "cell_type": "code",
   "execution_count": 4,
   "metadata": {},
   "outputs": [
    {
     "name": "stdout",
     "output_type": "stream",
     "text": [
      "Height:3\n",
      "Breadth:4\n",
      "Area Formula: Height*Breadth/2\n",
      "Area of Formula: 6.0\n",
      "Height1:3\n",
      "Height2:4\n",
      "Breadth:45\n",
      "Perimeter Formula:Height1+Height2+Breadth2\n",
      "Perimeter of Triangle: 52\n"
     ]
    }
   ],
   "source": [
    "triangle()"
   ]
  },
  {
   "cell_type": "code",
   "execution_count": null,
   "metadata": {},
   "outputs": [],
   "source": []
  }
 ],
 "metadata": {
  "kernelspec": {
   "display_name": "Python 3",
   "language": "python",
   "name": "python3"
  },
  "language_info": {
   "codemirror_mode": {
    "name": "ipython",
    "version": 3
   },
   "file_extension": ".py",
   "mimetype": "text/x-python",
   "name": "python",
   "nbconvert_exporter": "python",
   "pygments_lexer": "ipython3",
   "version": "3.7.4"
  }
 },
 "nbformat": 4,
 "nbformat_minor": 2
}
